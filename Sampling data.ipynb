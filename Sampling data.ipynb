{
 "cells": [
  {
   "cell_type": "code",
   "execution_count": 1,
   "id": "10212a2b-e6ef-4bc6-8a0e-8818045fa11b",
   "metadata": {},
   "outputs": [],
   "source": [
    "import json\n",
    "import random\n",
    "\n",
    "with open('NEW_youtube_olympics_data_limited_250_per_hashtag.json', 'r') as f:\n",
    "    data = json.load(f)\n",
    "\n",
    "sample = random.sample(data, 100)\n",
    "\n",
    "with open('youtube_sample.json', 'w') as json_file:\n",
    "    json.dump(sample, json_file, indent=4)"
   ]
  },
  {
   "cell_type": "code",
   "execution_count": 2,
   "id": "9f12b05a-7030-436d-a32c-117b28e6c392",
   "metadata": {},
   "outputs": [],
   "source": [
    "import json\n",
    "import random\n",
    "\n",
    "with open('olympics_posts_reddit.json', 'r') as f:\n",
    "    data = json.load(f)\n",
    "\n",
    "sample = random.sample(data, 100)\n",
    "\n",
    "with open('reddit_sample.json', 'w') as json_file:\n",
    "    json.dump(sample, json_file, indent=4)"
   ]
  }
 ],
 "metadata": {
  "kernelspec": {
   "display_name": "Python 3 (ipykernel)",
   "language": "python",
   "name": "python3"
  },
  "language_info": {
   "codemirror_mode": {
    "name": "ipython",
    "version": 3
   },
   "file_extension": ".py",
   "mimetype": "text/x-python",
   "name": "python",
   "nbconvert_exporter": "python",
   "pygments_lexer": "ipython3",
   "version": "3.11.5"
  }
 },
 "nbformat": 4,
 "nbformat_minor": 5
}
